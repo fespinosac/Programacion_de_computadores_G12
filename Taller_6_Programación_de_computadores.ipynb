{
 "cells": [
  {
   "cell_type": "markdown",
   "id": "O5ZP20uMdRQu",
   "metadata": {
    "id": "O5ZP20uMdRQu"
   },
   "source": [
    "# Programación de Computadores en Python\n",
    "## Taller 6: Programación de computadores\n",
    "#### Universidad Nacional de Colombia\n",
    "---\n",
    "**Instrucción:** Recuerde nombrar el desarrollo del taller en un único documento de Google Colab, de la siguiente manera: *Apellido_Nombre_Taller_6* (Ejemplo: *Contreras_Nicolas_Taller_6*.ipynb)\n",
    "---\n",
    "💡 **Tip:** Recuerda que puedes ver cuáles funciones podemos usar por defecto en Python (https://docs.python.org/3/library/functions.html)."
   ]
  },
  {
   "cell_type": "markdown",
   "id": "K61Im2xZiSsV",
   "metadata": {
    "id": "K61Im2xZiSsV"
   },
   "source": [
    "#### a) Crea una función que retorne las primeras $n$ letras del abecedario."
   ]
  },
  {
   "cell_type": "code",
   "execution_count": 5,
   "id": "EsDsQbPM2fXP",
   "metadata": {
    "id": "EsDsQbPM2fXP"
   },
   "outputs": [],
   "source": [
    "# Aquí debajo escribe tu solución, no olvides usar Docstrings para describir que hace la función.\n"
   ]
  },
  {
   "cell_type": "markdown",
   "id": "yTsBWrIQiUyx",
   "metadata": {
    "id": "yTsBWrIQiUyx"
   },
   "source": [
    "#### b) Crea una función que calcule la distancia entre dos puntos en el espacio 3D."
   ]
  },
  {
   "cell_type": "code",
   "execution_count": 6,
   "id": "7cjT5J9niUyz",
   "metadata": {
    "id": "7cjT5J9niUyz"
   },
   "outputs": [],
   "source": [
    "# Aquí debajo escribe tu solución, no olvides usar Docstrings para describir que hace la función.\n"
   ]
  },
  {
   "cell_type": "markdown",
   "id": "3riujRT6dRQ5",
   "metadata": {
    "id": "3riujRT6dRQ5"
   },
   "source": [
    "#### c) Implementa una calculadora de fracciones usando funciones."
   ]
  },
  {
   "cell_type": "code",
   "execution_count": 7,
   "id": "z-G4ZuUzdRQ5",
   "metadata": {
    "id": "z-G4ZuUzdRQ5"
   },
   "outputs": [],
   "source": [
    "# Puedes usar la libreria math si quieres (No es obligatorio pero la puedes investigar)\n",
    "import math\n",
    "\n",
    "# Esqueleto: calculadora de fracciones (completa las funciones)\n",
    "def leer_fraccion():\n",
    "    # leer numerador y denominador (enteros), obligatoriamente el denominador debe ser diferentes de 0, y retornarlos\n",
    "    pass\n",
    "\n",
    "def simplificar(num, den):\n",
    "    # retornar num, den simplificados (puedes usar math.gcd opcionalmente)\n",
    "    pass\n",
    "\n",
    "def sumar_fracciones(a_num, a_den, b_num, b_den):\n",
    "    # calcular la suma y usar simplificar antes de retornar\n",
    "    pass\n",
    "\n",
    "# Pruebas sugeridas (descomentar al completar):\n",
    "# n1, d1 = (1, 2)\n",
    "# n2, d2 = (1, 3)\n",
    "# rnum, rden = sumar_fracciones(n1, d1, n2, d2)\n",
    "# print(f\"Resultado: {rnum}/{rden}\")"
   ]
  },
  {
   "cell_type": "markdown",
   "id": "91920eea-144f-4ce5-89dc-14eec26ed982",
   "metadata": {},
   "source": [
    "#### d) Cañon de agua.\n",
    "\n",
    "En obras de ingeniería civil (y también en parques acuáticos 😎) se utilizan chorros de agua a presión. Tu tarea será escribir una **función en Python** que, dados:\n",
    "- La **velocidad inicial** del agua ( $v_0$ ),\n",
    "- El **ángulo de salida** ( $\\theta$ ) en grados,\n",
    "- Y la **altura inicial** ( $h$ ) desde donde se dispara.\n",
    "\n",
    "Calcule la **distancia horizontal (alcance)** que recorrerá el chorro hasta que toque el suelo.\n",
    "\n",
    "**Requisitos:**\n",
    "1. La función debe llamarse `alcance_chorro`\n",
    "2. Parámetros de entrada:\n",
    "- $v_0$ (float): velocidad inicial en $\\frac{m}{s}$.\n",
    "- $\\theta$ (float): ángulo en grados.\n",
    "- $h$ (float): altura inicial en metros.\n",
    "3. Salida: Un número (float) con el alcance en metros, redondeado a 2 decimales.\n",
    "4. Usa aceleración gravitacional $g = 9.81 \\frac{m}{s^2}$\n",
    "\n",
    "**Fórmulas:**\n",
    "- Descomposición de velocidad:  $v_x = v_0*cos(\\theta)$ , $v_y = v_0*sin(\\theta)$\n",
    "- Tiempo de vuelo (resolviendo la ecuación cuadrática de altura): $t=\\frac{v_y+\\sqrt{v_y^2+2gh}}{g}$\n",
    "- Alcance horizontal: $R=v_x*t $\n",
    "\n",
    "**Ejemplo de entrada:**\n",
    "`alcance_chorro(20,45,2)`\n",
    "\n",
    "**Ejemplo de salida:**\n",
    "`42, 69`]\""
   ]
  },
  {
   "cell_type": "code",
   "execution_count": 1,
   "id": "53823698-e20c-4ecd-b37a-bddcbf4e80d2",
   "metadata": {},
   "outputs": [],
   "source": [
    "# Puedes usar la libreria math si quieres (No es obligatorio pero la puedes investigar)\n",
    "import math\n",
    "\n",
    "# Agregar los parámetros correspondientes a la función\n",
    "def alcance_chorro(v0, angulo, h):\n",
    "    \"\"\"\n",
    "    Calcula el alcance horizontal de un chorro de agua disparado desde una altura.\n",
    "    \n",
    "    Parámetros:\n",
    "    - v0 (float): velocidad inicial en m/s\n",
    "    - angulo (float): ángulo de disparo en grados\n",
    "    - h (float): altura inicial en metros\n",
    "    \n",
    "    Retorna:\n",
    "    - float: alcance en metros redondeado a 2 decimales\n",
    "    \"\"\"\n",
    "    \n",
    "# Pruebas sugeridas (descomentar al completar):\n",
    "# param1 = int(input())\n",
    "# param2 = int(input())\n",
    "# param3 = int(input())\n",
    "# print(alcance_chorro(param1, param2, param3))"
   ]
  },
  {
   "cell_type": "markdown",
   "id": "a04abdc7-b786-400e-a6f1-4cff579908eb",
   "metadata": {},
   "source": [
    "#### e) Volumen tanque\n",
    "En ingeniería civil y química es común trabajar con tanques de almacenamiento de agua o sustancias. Imagina que eres el encargado de calcular el volumen de un tanque cilíndrico.\n",
    "\n",
    "**El programa debe:**\n",
    "- Definir una **función principal** que reciba el radio y la altura del tanque.\n",
    "- Usar una **función anidada** para calcular el área de la base.\n",
    "- Retornar el volumen del tanque.\n",
    "- Permitir imprimir el resultado con 2 decimales.\n",
    "\n",
    "**Requisitos:**\n",
    "- Usar funciones.\n",
    "- Incluir al menor una función anidada.\n",
    "- Retornar valores y mostrarlos en el programa principal.\n",
    "\n",
    "**Ejemplo de entrada:**\n",
    "\n",
    "`3, 5`\n",
    "\n",
    "\n",
    "**Ejemplo de salida:**\n",
    "\n",
    "`El volúmen del tanque es: 141.37 m³`"
   ]
  },
  {
   "cell_type": "code",
   "execution_count": 2,
   "id": "f0bce2f3-d344-455c-b3e0-5068fe49f9e1",
   "metadata": {},
   "outputs": [],
   "source": [
    "import math # Puedes usar la libreria math si quieres (No es obligatorio pero la puedes ivnestigar)\n",
    "\n",
    "def volumen_tanque(radio, altura):\n",
    "    # Función anidada para calcular área de la base\n",
    "    \n",
    "    # Volumen = área de la base * altura\n",
    "    pass\n",
    "\n",
    "# Programa principal\n"
   ]
  },
  {
   "cell_type": "code",
   "execution_count": null,
   "id": "80abf1ed-61ff-474c-805b-43771c9f4cf9",
   "metadata": {},
   "outputs": [],
   "source": []
  }
 ],
 "metadata": {
  "colab": {
   "provenance": []
  },
  "kernelspec": {
   "display_name": "Python 3 (ipykernel)",
   "language": "python",
   "name": "python3"
  },
  "language_info": {
   "codemirror_mode": {
    "name": "ipython",
    "version": 3
   },
   "file_extension": ".py",
   "mimetype": "text/x-python",
   "name": "python",
   "nbconvert_exporter": "python",
   "pygments_lexer": "ipython3",
   "version": "3.12.2"
  }
 },
 "nbformat": 4,
 "nbformat_minor": 5
}
